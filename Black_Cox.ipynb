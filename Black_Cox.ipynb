{
  "nbformat": 4,
  "nbformat_minor": 0,
  "metadata": {
    "colab": {
      "name": "PDE_final.ipynb",
      "provenance": [],
      "collapsed_sections": []
    },
    "kernelspec": {
      "name": "python3",
      "display_name": "Python 3"
    },
    "language_info": {
      "name": "python"
    }
  },
  "cells": [
    {
      "cell_type": "code",
      "source": [
        "import os\n",
        "import numpy as np\n",
        "from scipy.stats import norm\n",
        "import pandas as pd\n",
        "import matplotlib.pyplot as plt\n",
        "import statsmodels.api as sm\n",
        "from tqdm import tqdm\n",
        "# please change the following path to where data store\n",
        "path = r\"/content/drive/MyDrive/Colab Notebooks/PDE_final_data\""
      ],
      "metadata": {
        "id": "BoiRswwdA80b"
      },
      "execution_count": null,
      "outputs": []
    },
    {
      "cell_type": "markdown",
      "source": [
        "##### **4. Testing of the model: Test in Monte Carlo Simulation**"
      ],
      "metadata": {
        "id": "wCocm3pCOyKv"
      }
    },
    {
      "cell_type": "code",
      "source": [
        "# 4.1 basic analytical formula for vanilla option and digital option\n",
        "def eu(S,K,T,sigma,r,CorP=True):  # vanilla european option\n",
        "    d1 = (np.log(S / K) + (r + 1 / 2 * sigma ** 2) * T) / (sigma * np.sqrt(T))\n",
        "    d2 = d1 - sigma * np.sqrt(T)\n",
        "    sign = 1 if CorP else -1\n",
        "    return sign*(S*norm.cdf(sign*d1)-K*np.exp(-r*T)*norm.cdf(sign*d2))\n",
        "\n",
        "def digit(S,K,T,sigma,r,CorP=True): # Digital Option\n",
        "    d1 = (np.log(S / K) + (r + 1 / 2 * sigma ** 2) * T) / (sigma * np.sqrt(T))\n",
        "    d2 = d1 - sigma * np.sqrt(T)\n",
        "    sign = 1 if CorP else -1\n",
        "    return np.exp(-r*T)*norm.cdf(sign*d2)\n",
        "\n",
        "def eu_delta(S,K,T,sigma,r,CorP=True):  # vanilla european option delta\n",
        "    d1 = (np.log(S / K) + (r + 1 / 2 * sigma ** 2) * T) / (sigma * np.sqrt(T))\n",
        "    sign = 1 if CorP else -1\n",
        "    return norm.cdf(sign*d1)"
      ],
      "metadata": {
        "id": "Dx6dGSZm5cSI"
      },
      "execution_count": null,
      "outputs": []
    },
    {
      "cell_type": "code",
      "execution_count": null,
      "metadata": {
        "id": "VbO3OWYW5Uob"
      },
      "outputs": [],
      "source": [
        "# 4.2 stock path simulation\n",
        "def generate_stock_path(S,T,sigma,r,freq):\n",
        "    t = np.linspace(0,T,T*360*freq+1)\n",
        "    W = np.random.normal(0,1/np.sqrt(360*freq),T*360*freq)\n",
        "    W = np.cumsum(W)\n",
        "    W = np.append(np.array([0]), W)\n",
        "    S_path = S*np.exp((r-1/2*sigma**2)*t+sigma*W)\n",
        "    return S_path\n",
        "def Barrier(B,K,T,gamma,freq):\n",
        "    t = np.linspace(0,T,T*360*freq+1)\n",
        "    res = np.flip(B*np.exp(-gamma*t))\n",
        "    res[-1] = K\n",
        "    return res\n",
        "def down_out_payoff(barrier,K,T,S_path,CorP=True):\n",
        "    t = S_path.shape[0]\n",
        "    flag = (S_path<barrier).any()\n",
        "    if flag:\n",
        "        payoff = 0\n",
        "        default = 1\n",
        "    else:\n",
        "        payoff = np.exp(-r*T) * max(S_path[-1]-K,0) if CorP else max(K-mat[i,-1],0)\n",
        "        default = 0\n",
        "    return payoff, default"
      ]
    },
    {
      "cell_type": "code",
      "source": [
        "# 4.3 analytical solution for moving barrier option and default probability\n",
        "V, K, D, T, sigma, r, gamma = 60, 55, 55, 3, np.sqrt(360)*0.01318, 0.05, 0.1\n",
        "\n",
        "def mdo(V,K,D,T,sigma,r,gamma):  # Equity Value: theoretical value of down-and-out call option with moving barrier\n",
        "  a = -(r-gamma-0.5*sigma**2)/sigma**2\n",
        "  return eu(V,D,T,sigma,r) - eu((K*np.exp(-gamma*T))**2/V,D,T,sigma,r) * (V/(K*np.exp(-gamma*T)))**(2*a)\n",
        "\n",
        "def PD(V,K,D,T,sigma,r,gamma):  # Probability of Default: 1 - theoretical value of down-and-out digital call option with moving barrier\n",
        "  a = -(r-gamma-0.5*sigma**2)/sigma**2\n",
        "  return 1 - np.exp(r*T)* (digit(V,D,T,sigma,r) - digit((K*np.exp(-gamma*T))**2/V,D,T,sigma,r) * (V/(K*np.exp(-gamma*T)))**(2*a))\n",
        "\n",
        "def mdo_delta(V,K,D,T,sigma,r,gamma):  # dE/dV\n",
        "    a = -(r-gamma-0.5*sigma**2)/sigma**2\n",
        "    vt = K*np.exp(-gamma*T)\n",
        "    return eu_delta(V,D,T,sigma,r)-2*a/vt*((V/vt)**(2*a-1))*eu((K*np.exp(-gamma*T))**2/V,D,T,sigma,r)+\\\n",
        "           ((V/vt)**(2*a-2))*eu_delta((K*np.exp(-gamma*T))**2/V,D,T,sigma,r)\n",
        "\n",
        "a = -(r-gamma-0.5*sigma**2)/sigma**2\n",
        "Theo_price = mdo(V,K,D,T,sigma,r,gamma)\n",
        "Theo_prob_default = PD(V,K,D,T,sigma,r,gamma)"
      ],
      "metadata": {
        "id": "88W5vJtANsuL"
      },
      "execution_count": null,
      "outputs": []
    },
    {
      "cell_type": "code",
      "source": [
        "# 4.4 Monte Carlo simulation\n",
        "freq = 100\n",
        "num_trial = 10000\n",
        "\n",
        "payoff_sum, default_times = 0, 0\n",
        "for i in tqdm(range(num_trial)):\n",
        "    S_path = generate_stock_path(V,T,sigma,r,freq)\n",
        "    barrier = Barrier(K,D,T,gamma,freq)\n",
        "    payoff, default = down_out_payoff(barrier,D,T,S_path)\n",
        "    payoff_sum += payoff\n",
        "    default_times += default\n",
        "MC_price = payoff_sum / num_trial\n",
        "MC_default_prob = default_times / num_trial"
      ],
      "metadata": {
        "id": "OlygaDs_h_VF",
        "colab": {
          "base_uri": "https://localhost:8080/"
        },
        "outputId": "af54ee0d-ec33-40c5-d425-64269a6b89a1"
      },
      "execution_count": null,
      "outputs": [
        {
          "output_type": "stream",
          "name": "stderr",
          "text": [
            "100%|██████████| 10000/10000 [02:20<00:00, 71.15it/s]\n"
          ]
        }
      ]
    },
    {
      "cell_type": "code",
      "source": [
        "# 4.5 check with Monte Carlo\n",
        "print(\"Monte Carlo Price: {:.4f}; Theoretical Price: {:.4f}\".format(MC_price, Theo_price))\n",
        "print(\"Monte Carlo Prob_default: {:.4f}; Theoretical Prob_default: {:.4f}\".format(MC_default_prob, Theo_prob_default))"
      ],
      "metadata": {
        "id": "0iXoMpr1ImG8",
        "colab": {
          "base_uri": "https://localhost:8080/"
        },
        "outputId": "be8676f6-bc2a-4f50-d805-ace4d2148a1e"
      },
      "execution_count": null,
      "outputs": [
        {
          "output_type": "stream",
          "name": "stdout",
          "text": [
            "Monte Carlo Price: 14.7241; Theoretical Price: 14.6684\n",
            "Monte Carlo Prob_default: 0.5678; Theoretical Prob_default: 0.5691\n"
          ]
        }
      ]
    },
    {
      "cell_type": "code",
      "source": [
        "# 4.6 check extreme condition\n",
        "\n",
        "def do_call(V,K,D,T,sigma,r):\n",
        "  a = -1/2*(r/(1/2*sigma**2)-1)\n",
        "  return eu(V,D,T,sigma,r)-(V/K)**(2*a)*eu(K**2/V,D,T,sigma,r)\n",
        "\n",
        "K_1, D_1 = 1e-8, 1e-8\n",
        "K_2, gamma_2 = 50, 0\n",
        "print(\"1. Strike at 0: {:.4f}; V: {:.4f}\".format(mdo(V,K_1,D_1,T,sigma,r,gamma), V))\n",
        "print(\"2. Static Barrier: {:.4f}; down-and-out call: {:.4f}\".format(mdo(V,K_2,D,T,sigma,r,gamma_2), do_call(V,K_2,D,T,sigma,r)))"
      ],
      "metadata": {
        "colab": {
          "base_uri": "https://localhost:8080/"
        },
        "id": "chDG7JmrQDq3",
        "outputId": "389e7ef3-bd25-45ba-f92f-5428f589a4e5"
      },
      "execution_count": null,
      "outputs": [
        {
          "output_type": "stream",
          "name": "stdout",
          "text": [
            "1. Strike at 0: 60.0000; V: 60.0000\n",
            "2. Static Barrier: 12.2603; down-and-out call: 12.2603\n"
          ]
        }
      ]
    },
    {
      "cell_type": "markdown",
      "source": [
        "##### **5. Calibration: Example: Dentsply Sirona 1-Year Default Probability**"
      ],
      "metadata": {
        "id": "8zdTUXk1SJhL"
      }
    },
    {
      "cell_type": "code",
      "source": [
        "# 5.1 read in data\n",
        "# 5.1.1 quarterly Balance Sheet data from 03/31/16 to 05/12/22\n",
        "BS = pd.read_csv(os.path.join(path, \"XRAY_quarterly_balance-sheet.csv\"), index_col=0)\n",
        "Asset = BS.loc[\"TotalAssets\"][:25]\n",
        "Equity = BS.loc[\"TotalEquityGrossMinorityInterest\"][:25]\n",
        "D = BS[\"03/31/2022\"][\"TotalLiabilitiesNetMinorityInterest\"]\n",
        "C = BS[\"03/31/2022\"][\"\\tCurrentLiabilities\"]\n",
        "# 5.1.2 daily quote price from 03/31/16 to 05/12/22\n",
        "quote = pd.read_csv(os.path.join(path, \"XRAY.csv\"))\n",
        "quote[\"return\"] = quote[\"Adj Close\"].pct_change()\n",
        "# 5.1.3 10-year Treasury yield from 01/01/22 to 05/12/22\n",
        "rf = pd.read_csv(os.path.join(path, \"^TNX.csv\"))\n",
        "rf = rf[\"Adj Close\"].mean()*0.01"
      ],
      "metadata": {
        "id": "ZmYAnZI2SPRf"
      },
      "execution_count": null,
      "outputs": []
    },
    {
      "cell_type": "code",
      "source": [
        "# 5.2 calculate equity volatility\n",
        "# Method 1: standard deviation of quarterly equity\n",
        "sigma_e_1 = 2*np.std(Equity/Equity.shift(-1)-1)\n",
        "print(\"Volatility Method 1: \", sigma_e_1)\n",
        "\n",
        "# Method 2: standard deviation of daily return (03/31/16 ~ 03/31/22)\n",
        "sigma_e_2 = np.sqrt(252)*quote[quote[\"Date\"]<=\"2022-03-31\"][\"return\"].std()\n",
        "print(\"Volatility Method 2: \", sigma_e_2)\n",
        "\n",
        "# Method 3: standard deviation of daily return (03/31/22 ~ 05/12/22)\n",
        "sigma_e_3 = np.sqrt(252)*quote[quote[\"Date\"]>\"2022-03-31\"][\"return\"].std()\n",
        "print(\"Volatility Method 3: \", sigma_e_3)\n",
        "\n",
        "# Method 4: implied volatility of option (See XRAY_vix.xlsx for more details)\n",
        "vix_june, vix_july = 0.235933178, 0.221560587\n",
        "sigma_e_4 = np.sqrt((vix_june+vix_july)/2)\n",
        "print(\"Volatility Method 4: \", sigma_e_4)"
      ],
      "metadata": {
        "colab": {
          "base_uri": "https://localhost:8080/"
        },
        "id": "Okkz3dEScEIq",
        "outputId": "fd025b65-42ba-4ba3-acc5-2baa053d707c"
      },
      "execution_count": null,
      "outputs": [
        {
          "output_type": "stream",
          "name": "stdout",
          "text": [
            "Volatility Method 1:  0.11804993389484673\n",
            "Volatility Method 2:  0.30656631888524577\n",
            "Volatility Method 3:  0.5064703066353624\n",
            "Volatility Method 4:  0.47827490264491196\n"
          ]
        }
      ]
    },
    {
      "cell_type": "code",
      "source": [
        "# 5.3 calculate volatility of company value\n",
        "# 5.3.1 Method 1: dE/dV = beta in OLS Regression (E = c + beta*V)\n",
        "E, V = Equity[0], Asset[0]\n",
        "sigma_v = 2*np.std(Asset/Asset.shift(-1)-1)  # initial volatility of V\n",
        "plt.figure(figsize=(10, 4))\n",
        "plt.plot(Asset, Equity, \".\")\n",
        "plt.xlabel(\"Total Asset\")\n",
        "plt.ylabel(\"Total Equity\")\n",
        "plt.title(\"Asset - Equity\")\n",
        "plt.show()\n",
        "# Use beta of E to V as dE/dV (OLS Regression E ~ c + V)\n",
        "X = sm.add_constant(Asset.values)\n",
        "reg = sm.OLS(Equity.values, X)\n",
        "res = reg.fit()\n",
        "dE_dV = res.params[1]\n",
        "sigma_v_1 = sigma_e_3*E/V/dE_dV\n",
        "print(\"Historical Volatility of Company Value: \", sigma_v)\n",
        "print(\"OLS Regression Estimated Volatility: \", sigma_v_1)\n",
        "\n",
        "# 5.3.2 Method 2: dE/dV = option delta (use initial volatility)\n",
        "FCF, Pay_Debt = 545000000, 299000000\n",
        "T, Long_T = 1, D/(FCF+Pay_Debt)\n",
        "K = C+(D-C)*np.exp(-rf*(Long_T-T))\n",
        "sigma_v_2 = sigma_e_3*E/V/mdo_delta(V,K,K,T,sigma_v,rf,rf)\n",
        "print(\"Option Delta Estimated Volatility: \", sigma_v_2)"
      ],
      "metadata": {
        "colab": {
          "base_uri": "https://localhost:8080/",
          "height": 344
        },
        "id": "the_kOytdBHN",
        "outputId": "9308d815-3e3a-4c8b-c971-0b19db7d12af"
      },
      "execution_count": null,
      "outputs": [
        {
          "output_type": "display_data",
          "data": {
            "text/plain": [
              "<Figure size 720x288 with 1 Axes>"
            ],
            "image/png": "[encoded data removed]"
          },
          "metadata": {
            "needs_background": "light"
          }
        },
        {
          "output_type": "stream",
          "name": "stdout",
          "text": [
            "Historical Volatility of Company Value:  0.09051647732200913\n",
            "OLS Regression Estimated Volatility:  0.25153906886125293\n",
            "Option Delta Estimated Volatility:  0.2712601882481537\n"
          ]
        }
      ]
    },
    {
      "cell_type": "code",
      "source": [
        "# 5.4 calculate probability of default within 1 year\n",
        "FCF, Pay_Debt = 545000000, 299000000\n",
        "T, Long_T = 1, D/(FCF+Pay_Debt)\n",
        "K = C+(D-C)*np.exp(-rf*(Long_T-T))\n",
        "pod_1y = PD(V,K,K,T,sigma_v_1,rf,rf)\n",
        "print(\"Moody’s Idealized Cumulative Expected Default Rates (1 Year)\")\n",
        "print(\"Baa2: 0.1700%  Baa3: 0.4200%\")\n",
        "print(\"Probability of Default within 1 Year: {}%\".format(round(pod_1y*100,4)))"
      ],
      "metadata": {
        "colab": {
          "base_uri": "https://localhost:8080/"
        },
        "id": "KXjkHNF4dbBc",
        "outputId": "eeb5cbaa-419c-4420-f65c-219ed8be432d"
      },
      "execution_count": null,
      "outputs": [
        {
          "output_type": "stream",
          "name": "stdout",
          "text": [
            "Moody’s Idealized Cumulative Expected Default Rates (1 Year)\n",
            "Baa2: 0.1700%  Baa3: 0.4200%\n",
            "Probability of Default within 1 Year: 0.1411%\n"
          ]
        }
      ]
    }
  ]
}